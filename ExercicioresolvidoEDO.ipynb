{
  "nbformat": 4,
  "nbformat_minor": 0,
  "metadata": {
    "colab": {
      "provenance": [],
      "authorship_tag": "ABX9TyMjZyd9+K9EEwK7R57wYN9r",
      "include_colab_link": true
    },
    "kernelspec": {
      "name": "python3",
      "display_name": "Python 3"
    },
    "language_info": {
      "name": "python"
    }
  },
  "cells": [
    {
      "cell_type": "markdown",
      "metadata": {
        "id": "view-in-github",
        "colab_type": "text"
      },
      "source": [
        "<a href=\"https://colab.research.google.com/github/lacerdamj/Sistemas-Lineares/blob/main/ExercicioresolvidoEDO.ipynb\" target=\"_parent\"><img src=\"https://colab.research.google.com/assets/colab-badge.svg\" alt=\"Open In Colab\"/></a>"
      ]
    },
    {
      "cell_type": "markdown",
      "source": [
        "# **Sistemas Lineares**\n",
        "# Solução de EDO homogênea pelo método dos coeficientes a determinar.\n",
        "## Raízes complexas conjugadas\n",
        "\n",
        "*Escrito por Márcio J. Lacerda*"
      ],
      "metadata": {
        "id": "2bRXtWGHnC25"
      }
    },
    {
      "cell_type": "code",
      "source": [
        "#Importando as bibliotecas\n",
        "import numpy as np\n",
        "import matplotlib.pyplot as plt"
      ],
      "metadata": {
        "id": "xss7_ewJoI8W"
      },
      "execution_count": 1,
      "outputs": []
    },
    {
      "cell_type": "markdown",
      "source": [
        "Encontre a solução para a seguinte EDO \n",
        "$$\n",
        "\\ddot{y}(t)+2\\sqrt{3}\\dot{y}(t)+4y(t)=0,\n",
        "$$\n",
        "com condições iniciais $y(0)=1$, $\\dot{y}(0)=0$.\n",
        "\n",
        "### Solução:\n",
        "\n",
        "Encontrar a equação característica e calcular suas raízes\n",
        "$$\n",
        "\\lambda^2+2\\sqrt{3}\\lambda+4=0.\n",
        "$$"
      ],
      "metadata": {
        "id": "WRu6Uv-MnS2G"
      }
    },
    {
      "cell_type": "code",
      "source": [
        "#Coeficientes do polinômio:\n",
        "coeff = [1, 2*np.sqrt(3), 4]\n",
        "\n",
        "#Comando que calcula as raízes:\n",
        "raizes=np.roots(coeff)\n",
        "\n",
        "#Mostra a resposta obtida\n",
        "print(\"As raízes são\",raizes)"
      ],
      "metadata": {
        "colab": {
          "base_uri": "https://localhost:8080/"
        },
        "id": "gFkHxKX8oB4z",
        "outputId": "72e3ddfc-5690-437c-c609-417228583283"
      },
      "execution_count": 2,
      "outputs": [
        {
          "output_type": "stream",
          "name": "stdout",
          "text": [
            "As raízes são [-1.73205081+1.j -1.73205081-1.j]\n"
          ]
        }
      ]
    },
    {
      "cell_type": "markdown",
      "source": [
        "As raízes são $\\lambda_1=-\\sqrt{3}+j$ e $\\lambda_2=-\\sqrt{3}-j$. \n",
        "\n",
        "De posse das raízes devemos utilizar uma das possíveis soluções equivalentes.\n",
        "\n",
        "####Caso 1:\n",
        "$$\n",
        "y(t)=e^{\\alpha t}\\left(C_1\\cos(\\beta t)+C_2\\sin(\\beta t)\\right) \n",
        "$$\n",
        "Lembrando que as raízes podem ser escritas como $\\alpha+j\\beta$ e $\\alpha-j\\beta$, logo identificamos $\\alpha=-\\sqrt{3}$ e $\\beta=1$.\n",
        "\n",
        "Sendo assim, \n",
        "$$\n",
        "y(t)=e^{-\\sqrt{3} t}\\left(C_1\\cos(t)+C_2\\sin(t)\\right). \n",
        "$$\n",
        "Usando a condição inicial $y(0)=1$, tem-se\n",
        "$$\n",
        "y(0)=C_1\\cos(0)+\\color{red}{C_2\\sin(0)}=1, \n",
        "$$\n",
        "ou ainda $C_1=1$, uma vez que $\\cos(0)=1$ e $\\sin(0)=0$.\n",
        "\n",
        "Para encontrar o valor do coeficiente $C_2$ deve-se calcular $\\dot{y}(t)$.\n",
        "$$\n",
        "\\dot{y}(t)=-\\sqrt{3}e^{-\\sqrt{3} t}\\left(C_1\\cos(t)+C_2\\sin(t)\\right)+e^{-\\sqrt{3} t}\\left(-C_1\\sin(t)+C_2\\cos(t)\\right). \n",
        "$$\n",
        "Substituindo o ponto $t=0$:\n",
        "$$\n",
        "\\dot{y}(0)=-\\sqrt{3}\\left(C_1\\cos(0)+\\color{red}{C_2\\sin(0)}\\right)+\\left(\\color{red}{-C_1\\sin(0)}+C_2\\cos(0)\\right),\n",
        "$$\n",
        "usando $\\cos(0)=1$ e $\\sin(0)=0$:\n",
        "$$\n",
        "\\dot{y}(0)=-\\sqrt{3}C_1+C_2=0,\n",
        "$$\n",
        "ou seja $C_2=\\sqrt{3}C_1=\\sqrt{3}$.\n",
        "\n",
        "Dessa forma a solução completa é \n",
        "$$\n",
        "y(t)=e^{-\\sqrt{3} t}\\left(\\cos(t)+\\sqrt{3}\\sin(t)\\right). \n",
        "$$"
      ],
      "metadata": {
        "id": "GqUr7QUBoZYb"
      }
    },
    {
      "cell_type": "code",
      "execution_count": 3,
      "metadata": {
        "colab": {
          "base_uri": "https://localhost:8080/",
          "height": 282
        },
        "id": "ZmqMJgZVm79r",
        "outputId": "ebf9d3c7-52ff-4903-fc65-a6bea5a663b7"
      },
      "outputs": [
        {
          "output_type": "display_data",
          "data": {
            "text/plain": [
              "<Figure size 432x288 with 1 Axes>"
            ],
            "image/png": "[encoded data removed]"
          },
          "metadata": {
            "needs_background": "light"
          }
        }
      ],
      "source": [
        "t0 = 0   #tempo inicial\n",
        "tf = 5  #tempo final\n",
        "n = 1000   #número de pontos\n",
        "\n",
        "#a função linspace define um intervalo de t0 até tf \n",
        "#igualmente espaçado em n pontos\n",
        "t = np.linspace(t0, tf, n)\n",
        "\n",
        "#Defina uma função de entrada u(t)\n",
        "y = np.exp(-np.sqrt(3)*t)*(np.cos(t)+np.sqrt(3)*np.sin(t))\n",
        "\n",
        "\n",
        "# inicia a figura\n",
        "fg, ax = plt.subplots(1, 1)\n",
        "#plota no eixo horizontal a variável t e no vertical a variável y\n",
        "ax.plot(t,y,'b', label=\"$y(t)$\", linewidth=2)\n",
        "\n",
        "#insere uma grade no gráfico\n",
        "ax.grid(True)\n",
        "#posiciona a legenda na melhor localização\n",
        "ax.legend(loc='best')\n",
        "#insere informação do eixo vertical\n",
        "plt.ylabel('$y(t)$', fontsize=12)\n",
        "#insere informação do eixo horizontal\n",
        "plt.xlabel('t', fontsize=12)\n",
        "fg.canvas.draw()"
      ]
    },
    {
      "cell_type": "markdown",
      "source": [
        "####Caso 2:\n",
        "$$\n",
        "y(t)=Ce^{\\alpha t}\\cos(\\beta t+\\theta)\n",
        "$$\n",
        "Lembrando que as raízes podem ser escritas como $\\alpha+j\\beta$ e $\\alpha-j\\beta$, logo identificamos $\\alpha=-\\sqrt{3}$ e $\\beta=1$.\n",
        "\n",
        "Sendo assim, \n",
        "$$\n",
        "y(t)=Ce^{-\\sqrt{3} t}\\cos(t+\\theta)\n",
        "$$\n",
        "Usando a condição inicial $y(0)=1$, tem-se\n",
        "$$\n",
        "y(0)=C\\cos(\\theta)=1. \n",
        "$$\n",
        "\n",
        "Para encontrar a segunda equação que relaciona as variáveis $C$ e $\\theta$, deve-se calcular $\\dot{y}(t)$.\n",
        "$$\n",
        "\\dot{y}(t)=-\\sqrt{3}Ce^{-\\sqrt{3} t}\\cos(t+\\theta)- Ce^{-\\sqrt{3} t}\\sin(t+\\theta).\n",
        "$$\n",
        "Substituindo o ponto $t=0$:\n",
        "$$\n",
        "\\dot{y}(0)=-\\sqrt{3}C\\cos(\\theta)- C\\sin(\\theta)=0.\n",
        "$$\n",
        "ou ainda \n",
        "$$\n",
        "-\\sqrt{3}C\\cos(\\theta)= C\\sin(\\theta),\n",
        "$$\n",
        "o que implica em \n",
        "$$\n",
        "\\tan(\\theta)=-\\sqrt{3},\n",
        "$$\n",
        "ou seja, $\\theta=\\arctan{(-\\sqrt{3})}$, o que indica $\\displaystyle{\\theta=-\\frac{\\pi}{3}}$. \n",
        "\n",
        "Usando $\\displaystyle{\\theta=-\\frac{\\pi}{3}}$ e a equação $C\\cos(\\theta)=1$, encontra-se o valor de $C$.\n",
        "$$\n",
        "C\\cos{(-\\frac{\\pi}{3})}=1, ~C=2.\n",
        "$$\n",
        "\n",
        "Dessa forma a solução completa é \n",
        "$$\n",
        "y(t)=2e^{-\\sqrt{3} t}\\cos(t-\\frac{\\pi}{3}).\n",
        "$$\n"
      ],
      "metadata": {
        "id": "9IvEN3HNt4NE"
      }
    },
    {
      "cell_type": "code",
      "source": [
        "#Defina uma função de entrada u(t)\n",
        "y2 = 2*np.exp(-np.sqrt(3)*t)*(np.cos(t-np.pi/3))\n",
        "\n",
        "# inicia a figura\n",
        "fg, ax = plt.subplots(1, 1)\n",
        "#plota no eixo horizontal a variável t e no vertical a variável y\n",
        "ax.plot(t,y2,'r', label=r\"$y_2(t)$\", linewidth=2)\n",
        "\n",
        "#insere uma grade no gráfico\n",
        "ax.grid(True)\n",
        "#posiciona a legenda na melhor localização\n",
        "ax.legend(loc='best')\n",
        "#insere informação do eixo vertical\n",
        "plt.ylabel(r\"$y_2(t)$\", fontsize=12)\n",
        "#insere informação do eixo horizontal\n",
        "plt.xlabel('t', fontsize=12)\n",
        "fg.canvas.draw()"
      ],
      "metadata": {
        "colab": {
          "base_uri": "https://localhost:8080/",
          "height": 282
        },
        "id": "q271DxaZnBTb",
        "outputId": "642892f2-d2b7-4304-9b20-3f9f70dbe37e"
      },
      "execution_count": 4,
      "outputs": [
        {
          "output_type": "display_data",
          "data": {
            "text/plain": [
              "<Figure size 432x288 with 1 Axes>"
            ],
            "image/png": "[encoded data removed]"
          },
          "metadata": {
            "needs_background": "light"
          }
        }
      ]
    },
    {
      "cell_type": "markdown",
      "source": [
        "Note que a mesma solução é obtida, conforme esperado. Aplicando a relação\n",
        "\n",
        "$$\n",
        "\\cos(a + b) = \\cos(a) \\cos (b) – \\sin (a) \\sin (b),\n",
        "$$\n",
        "na solução do Caso 2:\n",
        "$$\n",
        "\\color{blue} {y(t)=2e^{-\\sqrt{3} t}\\cos(t-\\frac{\\pi}{3}),}\n",
        "$$\n",
        "tem-se\n",
        "$$\n",
        "y(t)=2e^{-\\sqrt{3} t}\\left(\\cos(t)\\cos(-\\frac{\\pi}{3})-\\sin(t)\\sin(-\\frac{\\pi}{3})\\right).\n",
        "$$\n",
        "Observe que\n",
        "$$\n",
        "\\cos(-\\frac{\\pi}{3})=\\frac{1}{2},~\\sin(-\\frac{\\pi}{3})=-\\frac{\\sqrt{3}}{2}.\n",
        "$$\n",
        "Logo\n",
        "$$\n",
        "y(t)=2e^{-\\sqrt{3} t}\\left(\\frac{1}{2}\\cos(t)+\\frac{\\sqrt{3}}{2}\\sin(t))\\right).\n",
        "$$\n",
        "que pode ser reescrita como\n",
        "$$\n",
        "\\color{blue} {y(t)=e^{-\\sqrt{3} t}\\left(\\cos(t)+\\sqrt{3}\\sin(t)\\right).}\n",
        "$$\n",
        "que é a solução para o primeiro caso. Confirmando que as soluções são idênticas."
      ],
      "metadata": {
        "id": "ylWVdsm_x5Go"
      }
    }
  ]
}