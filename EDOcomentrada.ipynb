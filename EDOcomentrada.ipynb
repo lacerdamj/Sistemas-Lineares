{
  "nbformat": 4,
  "nbformat_minor": 0,
  "metadata": {
    "colab": {
      "provenance": [],
      "authorship_tag": "ABX9TyNyhyraXIhFsfia19tzQTyJ",
      "include_colab_link": true
    },
    "kernelspec": {
      "name": "python3",
      "display_name": "Python 3"
    },
    "language_info": {
      "name": "python"
    },
    "gpuClass": "standard"
  },
  "cells": [
    {
      "cell_type": "markdown",
      "metadata": {
        "id": "view-in-github",
        "colab_type": "text"
      },
      "source": [
        "<a href=\"https://colab.research.google.com/github/lacerdamj/Sistemas-Lineares/blob/main/EDOcomentrada.ipynb\" target=\"_parent\"><img src=\"https://colab.research.google.com/assets/colab-badge.svg\" alt=\"Open In Colab\"/></a>"
      ]
    },
    {
      "cell_type": "markdown",
      "source": [
        "# **Sistemas Lineares**\n",
        "# Solução da equação não homogênea\n",
        "\n",
        "*Escrito por Márcio J. Lacerda*"
      ],
      "metadata": {
        "id": "jHYHWc_L34lA"
      }
    },
    {
      "cell_type": "code",
      "execution_count": 1,
      "metadata": {
        "id": "H0blRAsD0qXu"
      },
      "outputs": [],
      "source": [
        "#Importando as bibliotecas\n",
        "import numpy as np\n",
        "import matplotlib.pyplot as plt\n"
      ]
    },
    {
      "cell_type": "markdown",
      "source": [
        " Considere o sistema descrito pela equação diferencial\n",
        "$$\n",
        "   \\ddot{y}(t)+3\\dot{y}(t)+2y(t)= \\dot{u}(t)+4u(t), \n",
        "$$\n",
        "com condições iniciais\n",
        "$$\n",
        "\\quad y(0)=2, \\quad \\dot{y}(0)=1,\n",
        "$$\n",
        "e entrada $u(t)=e^{-3t}$.\n",
        "\n",
        "Aplicando o operador $p=\\frac{d}{dt}$, tem-se\n",
        "\n",
        "$$\n",
        "\\left(p^2+3p+2\\right)y(t)= \\left(p+4\\right)u(t). \n",
        "$$\n",
        "\n",
        "Nosso objetivo é transformar a equação $N(p)y(t)=D(p)u(t)$ em uma equação homogênea. \n",
        "\n",
        "Para este fim, devemos encontrar um polinômio $\\bar{D}(p)$ tal que \n",
        "\n",
        "$$\n",
        "\\bar{D}(p)N(p)y(t)=\\bar{D}(p)D(p)u(t)=0\n",
        "$$\n",
        "\n",
        "O polinômio $\\bar{D}(p)$ deve ser escolhido para anular a entrada ou seja $\\bar{D}(p)u(t)=0$. Essa escolha é feita levando em consideração o modo próprio associado à entrada $u(t)$.\n",
        "\n",
        "No exemplo a entrada dada é $u(t)=e^{-3t}$, logo está associada a um polinômio com raiz $-3$. Desta forma tem-se $\\bar{D}(p)=(p+3)$.\n",
        "\n",
        "\n",
        "Para confirmar, podemos checar se a igualdade $\\bar{D}(p)u(t)=0$ é verdadeira:\n",
        "\\begin{align}\n",
        "\\bar{D}(p)u(t)&=0, \\\\\n",
        "(p+3)e^{-3t} &=0, \\\\\n",
        "-3e^{-3t}+3e^{-3t}&=0.\n",
        "\\end{align}\n",
        "\n",
        "Confirmando que $\\bar{D}(p)u(t)=0$, podemos escrever:\n",
        "$$\n",
        "\\left(p+3\\right)\\left(p^2+3p+2\\right)y(t)= \\left(p+3\\right)\\left(p+4\\right)u(t)=0, \n",
        "$$\n",
        "ou simplesmente \n",
        "$$\n",
        "\\left(p+3\\right)\\left(p^2+3p+2\\right)y(t)=0, \n",
        "$$\n",
        "que é uma equação homogênea, de ordem $3$. \n",
        "\n",
        "Entretanto, foram dadas apenas duas condições iniciais. Para caracterizar a solução precisamos encontrar a terceira condição inicial $\\ddot{y}(0)$.\n",
        "\n",
        "Usando a equação original e a equação da entrada calcula-se\n",
        "\n",
        "\\begin{align}\n",
        "\\ddot{y}(0)&=-3\\dot{y}(0)-2y(0)+\\dot{u}(0)+4u(0),\\\\\n",
        "\\ddot{y}(0)&=-3\\times 1-2\\times 2 -3e^{0}+4e^{0}, \\\\\n",
        "\\ddot{y}(0)&=-6.\n",
        "\\end{align}\n",
        "\n",
        "Note que, apesar de não influenciar na determinação de $\\bar{D}(p)$, o polinômio $N(p)$ influenciou na determinação da condição inicial $\\ddot{y}(0)$, uma vez que a equação original do sistema é utilizada.\n",
        "\n",
        "A partir da equação característica:\n",
        "$$\n",
        "\\left(\\lambda+3\\right)\\left(\\lambda^2+3\\lambda+2\\right)y(t)=0, \n",
        "$$\n",
        "encontra-se as raízes $\\lambda_1=-1$, $\\lambda_2=-2$ e $\\lambda_3=-3$. Três raízes distintas, logo a solução tem a seguinte forma:\n",
        "$$\n",
        "y(t)=C_1e^{\\lambda_1t}+C_2e^{\\lambda_2t}+C_3e^{\\lambda_3t}.\n",
        "$$\n",
        "\n",
        "ou simplesmente:\n",
        "$$\n",
        "y(t)=C_1e^{-t}+C_2e^{-2t}+C_3e^{-3t}.\n",
        "$$\n",
        "Calculando as derivadas tem-se\n",
        "$$\n",
        "\\dot{y}(t)=-C_1e^{-t}-2C_2e^{-2t}-3C_3e^{-3t},\n",
        "$$\n",
        "\n",
        "$$\n",
        "\\ddot{y}(t)=C_1e^{-t}+4C_2e^{-2t}+9C_3e^{-3t}.\n",
        "$$\n",
        "Substituindo no ponto $t=0$ obtem-se \n",
        "\n",
        "\n",
        "\\begin{align}\n",
        "y(0)&=C_1+C_2+C_3=2, \\\\\n",
        "\\dot{y}(0)&=-C_1-2C_2-3C_3=1, \\\\\n",
        "\\ddot{y}(0)&=C_1+4C_2+9C_3=-6.\n",
        "\\end{align}\n",
        "\n",
        "Tem-se um sistema linear com três equações e três incógnitas. Diferentes métodos podem ser usados para solucionar este problema. Escrevendo na forma matricial:\n",
        "\n",
        "$$\n",
        "\\begin{bmatrix}1 & 1 & 1 \\\\ -1 & -2 & -3 \\\\ 1& 4 & 9\\end{bmatrix}\n",
        "\\begin{bmatrix}C_1 \\\\ C_2 \\\\ C_3\\end{bmatrix}=\n",
        "\\begin{bmatrix}2 \\\\-1 \\\\-6 \\end{bmatrix}\n",
        "$$\n",
        "\n",
        "Na sequência a solução é apresentada:"
      ],
      "metadata": {
        "id": "OzpEgyoO4EeS"
      }
    },
    {
      "cell_type": "code",
      "source": [
        "A = np.array([[1, 1, 1], [-1,-2,-3], [1, 4, 9]])\n",
        "b = np.array([2, 1, -6])\n",
        "C = np.linalg.solve(A, b)\n",
        "\n",
        "#Mostra a resposta obtida\n",
        "print(\"Os valores das constantes são dados por\",C)\n"
      ],
      "metadata": {
        "id": "HSerhiEW4Ezu",
        "colab": {
          "base_uri": "https://localhost:8080/"
        },
        "outputId": "9d319cc1-0da1-4362-f3d6-0a360e3e9e34"
      },
      "execution_count": 2,
      "outputs": [
        {
          "output_type": "stream",
          "name": "stdout",
          "text": [
            "Os valores das constantes são dados por [ 5.5 -4.   0.5]\n"
          ]
        }
      ]
    },
    {
      "cell_type": "markdown",
      "source": [
        "Logo, a solução pode ser escrita como\n",
        "$$\n",
        "y(t)=\\frac{11}{2}e^{-t}-4e^{-2t}+\\frac{1}{2}e^{-3t}.\n",
        "$$"
      ],
      "metadata": {
        "id": "NuMoskHa6wIu"
      }
    },
    {
      "cell_type": "code",
      "source": [
        "t0 = 0   #tempo inicial\n",
        "tf = 5  #tempo final\n",
        "n = 1000   #número de pontos\n",
        "\n",
        "#a função linspace define um intervalo de t0 até tf \n",
        "#igualmente espaçado em n pontos\n",
        "t = np.linspace(t0, tf, n)\n",
        "\n",
        "#Defina a função y\n",
        "y = (11/2)*np.exp(-t)-(4)*np.exp(-2*t)+(1/2)*np.exp(-3*t)\n",
        "\n",
        "\n",
        "# inicia a figura\n",
        "fg, ax = plt.subplots(1, 1)\n",
        "#plota no eixo horizontal a variável t e no vertical a variável y\n",
        "ax.plot(t,y,'y', label=\"$y(t)$\", linewidth=2)\n",
        "\n",
        "#insere uma grade no gráfico\n",
        "ax.grid(True)\n",
        "#posiciona a legenda na melhor localização\n",
        "ax.legend(loc='best')\n",
        "#insere informação do eixo vertical\n",
        "plt.ylabel('$y(t)$', fontsize=12)\n",
        "#insere informação do eixo horizontal\n",
        "plt.xlabel('t', fontsize=12)\n",
        "fg.canvas.draw()"
      ],
      "metadata": {
        "id": "wG7YH4df4LpT",
        "colab": {
          "base_uri": "https://localhost:8080/",
          "height": 282
        },
        "outputId": "420f378e-c45e-429f-e135-8c907600b040"
      },
      "execution_count": 3,
      "outputs": [
        {
          "output_type": "display_data",
          "data": {
            "text/plain": [
              "<Figure size 432x288 with 1 Axes>"
            ],
            "image/png": "[encoded data removed]"
          },
          "metadata": {
            "needs_background": "light"
          }
        }
      ]
    },
    {
      "cell_type": "markdown",
      "source": [
        "Para verificar se as condições iniciais estão sendo satisfeitas vamos calcular as derivadas $\\dot{y}(t)$ e $\\ddot{y}(t)$ "
      ],
      "metadata": {
        "id": "vOON18Co4uZK"
      }
    },
    {
      "cell_type": "code",
      "source": [
        "import sympy as sp\n",
        "\n",
        "t = sp.Symbol('t')\n",
        "y = (11/2)*sp.exp(-t)-4*sp.exp(-2*t)+(1/2)*sp.exp(-3*t)\n",
        "\n",
        "yd=sp.diff(y, t)\n",
        "\n",
        "#Mostra a resposta obtida\n",
        "print(\"A derivada do sinal é dada por\",yd,\".\")\n",
        "\n",
        "ydd=sp.diff(yd, t)\n",
        "\n",
        "#Mostra a resposta obtida\n",
        "print(\"A derivada segunda do sinal é dada por\",ydd,\".\")"
      ],
      "metadata": {
        "id": "nUV666Cx42kw",
        "colab": {
          "base_uri": "https://localhost:8080/"
        },
        "outputId": "66623780-51ab-4494-cc22-13b79a85e298"
      },
      "execution_count": 4,
      "outputs": [
        {
          "output_type": "stream",
          "name": "stdout",
          "text": [
            "A derivada do sinal é dada por -5.5*exp(-t) + 8*exp(-2*t) - 1.5*exp(-3*t) .\n",
            "A derivada segunda do sinal é dada por 5.5*exp(-t) - 16*exp(-2*t) + 4.5*exp(-3*t) .\n"
          ]
        }
      ]
    },
    {
      "cell_type": "code",
      "source": [
        "t0 = 0   #tempo inicial\n",
        "tf = 5  #tempo final\n",
        "n = 1000   #número de pontos\n",
        "\n",
        "#a função linspace define um intervalo de t0 até tf \n",
        "#igualmente espaçado em n pontos\n",
        "t = np.linspace(t0, tf, n)\n",
        "\n",
        "\n",
        "#Defina a função yd\n",
        "yd = -(11/2)*np.exp(-t)+8*np.exp(-2*t)-(3/2)*np.exp(-3*t)\n",
        "\n",
        "# inicia a figura\n",
        "fg, ax = plt.subplots(1, 1)\n",
        "#plota no eixo horizontal a variável t e no vertical a variável yd\n",
        "ax.plot(t,yd,'r', label=\"$\\dot{y}(t)$\", linewidth=2)\n",
        "\n",
        "#insere uma grade no gráfico\n",
        "ax.grid(True)\n",
        "#posiciona a legenda na melhor localização\n",
        "ax.legend(loc='best')\n",
        "#insere informação do eixo vertical\n",
        "plt.ylabel('$\\dot{y}(t)$', fontsize=12)\n",
        "#insere informação do eixo horizontal\n",
        "plt.xlabel('t', fontsize=12)\n",
        "fg.canvas.draw()"
      ],
      "metadata": {
        "id": "6k8A5nsO6WHy",
        "colab": {
          "base_uri": "https://localhost:8080/",
          "height": 282
        },
        "outputId": "f91336b4-1382-4566-deb5-e0fba6f7945d"
      },
      "execution_count": 5,
      "outputs": [
        {
          "output_type": "display_data",
          "data": {
            "text/plain": [
              "<Figure size 432x288 with 1 Axes>"
            ],
            "image/png": "[encoded data removed]"
          },
          "metadata": {
            "needs_background": "light"
          }
        }
      ]
    },
    {
      "cell_type": "code",
      "source": [
        "#Defina a função ydd\n",
        "ydd = (11/2)*np.exp(-t)-16*np.exp(-2*t)+(9/2)*np.exp(-3*t)\n",
        "\n",
        "# inicia a figura\n",
        "fg, ax = plt.subplots(1, 1)\n",
        "#plota no eixo horizontal a variável t e no vertical a variável yd\n",
        "ax.plot(t,ydd,'g', label=\"$\\ddot{y}(t)$\", linewidth=2)\n",
        "\n",
        "#insere uma grade no gráfico\n",
        "ax.grid(True)\n",
        "#posiciona a legenda na melhor localização\n",
        "ax.legend(loc='best')\n",
        "#insere informação do eixo vertical\n",
        "plt.ylabel('$\\ddot{y}(t)$', fontsize=12)\n",
        "#insere informação do eixo horizontal\n",
        "plt.xlabel('t', fontsize=12)\n",
        "fg.canvas.draw()"
      ],
      "metadata": {
        "id": "3u4VfXx28DfN",
        "colab": {
          "base_uri": "https://localhost:8080/",
          "height": 282
        },
        "outputId": "eb20316a-ef6e-4168-8286-4de614ccd24f"
      },
      "execution_count": 6,
      "outputs": [
        {
          "output_type": "display_data",
          "data": {
            "text/plain": [
              "<Figure size 432x288 with 1 Axes>"
            ],
            "image/png": "[encoded data removed]"
          },
          "metadata": {
            "needs_background": "light"
          }
        }
      ]
    },
    {
      "cell_type": "markdown",
      "source": [
        "Pelas figuras, confirmamos que a solução está correta e que todas as condições iniciais dadas foram atendidas."
      ],
      "metadata": {
        "id": "pqXnXYvJ8VQQ"
      }
    }
  ]
}