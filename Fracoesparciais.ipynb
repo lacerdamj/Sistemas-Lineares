{
  "nbformat": 4,
  "nbformat_minor": 0,
  "metadata": {
    "colab": {
      "provenance": [],
      "authorship_tag": "ABX9TyPEoHBl4PpXI+3klpCQWUoF",
      "include_colab_link": true
    },
    "kernelspec": {
      "name": "python3",
      "display_name": "Python 3"
    },
    "language_info": {
      "name": "python"
    }
  },
  "cells": [
    {
      "cell_type": "markdown",
      "metadata": {
        "id": "view-in-github",
        "colab_type": "text"
      },
      "source": [
        "<a href=\"https://colab.research.google.com/github/lacerdamj/Sistemas-Lineares/blob/main/Fracoesparciais.ipynb\" target=\"_parent\"><img src=\"https://colab.research.google.com/assets/colab-badge.svg\" alt=\"Open In Colab\"/></a>"
      ]
    },
    {
      "cell_type": "markdown",
      "source": [
        "# **Sistemas Lineares**\n",
        "# Decomposição em frações parciais\n",
        "\n",
        "*Escrito por Márcio J. Lacerda*"
      ],
      "metadata": {
        "id": "gFwy7sMN5PXe"
      }
    },
    {
      "cell_type": "markdown",
      "source": [
        "Dado\n",
        "$$\n",
        "Y(s) = \\frac{1}{s(s+1)^3(s+2)},\n",
        "$$\n",
        "obtenha $y(t)$\n",
        "\n",
        "\n",
        "Usando frações parciais tem-se\n",
        "$$\n",
        " Y(s)=\\frac{C_1}{s}+\\frac{C_2}{s+2} + \\frac{D_1}{s+1} +\\frac{D_2}{(s+1)^2} +\\frac{D_3}{(s+1)^3}.\n",
        "$$\n",
        "\n",
        "O objetivo é encontrar os valores de $C_1,C_2,D_1,D_2,D_3$ para aplicar a transformada inversa de Laplace."
      ],
      "metadata": {
        "id": "SjCiPceW5nBO"
      }
    },
    {
      "cell_type": "code",
      "execution_count": null,
      "metadata": {
        "colab": {
          "base_uri": "https://localhost:8080/"
        },
        "id": "GfIkcebIlBd6",
        "outputId": "71f9cd23-c3a9-431b-d888-cfc826550ad3"
      },
      "outputs": [
        {
          "output_type": "stream",
          "name": "stdout",
          "text": [
            "The coefficients are given by\n"
          ]
        },
        {
          "output_type": "execute_result",
          "data": {
            "text/plain": [
              "{C1: 1/2, C2: 1/2, D1: -1, D2: 0, D3: -1}"
            ]
          },
          "metadata": {},
          "execution_count": 2
        }
      ],
      "source": [
        "import sympy as sym\n",
        "\n",
        "s = sym.symbols('s', complex=True)\n",
        "\n",
        "C1, C2, D1, D2, D3= sym.symbols('C1 C2 D1 D2 D3', real=True)\n",
        "\n",
        "N=1\n",
        "D=s*(s+2)*(s+1)**3\n",
        "M=N/D\n",
        "Mp = C1/(s) + C2/(s+2) + D1/(s+1)  + D2/(s+1)**2 + D3/(s+1)**3\n",
        "\n",
        "coeffs = sym.solve(sym.Eq(M, Mp), (C1, C2, D1, D2, D3))\n",
        "\n",
        "print(\"The coefficients are given by\", )\n",
        "coeffs"
      ]
    },
    {
      "cell_type": "markdown",
      "source": [
        "De posse dos valores obtidos:\n",
        "\n",
        "$$\n",
        " Y(s)=\\frac{1}{2}\\frac{1}{s}+\\frac{1}{2}\\frac{1}{(s+2)} - \\frac{1}{s+1} -\\frac{1}{(s+1)^3}\n",
        "$$\n",
        "\n",
        "Consultando a tabela de transformada tem-se:\n",
        "\n",
        "$$\n",
        "y(t)=\\left( \\frac{1}{2}+\\frac{1}{2}e^{-2t}-e^{-t}-\\frac{1}{2}t^2e^{-t} \\right)u(t).\n",
        "$$"
      ],
      "metadata": {
        "id": "vWPo2LE76Jxj"
      }
    }
  ]
}