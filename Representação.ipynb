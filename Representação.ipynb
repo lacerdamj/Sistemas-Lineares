{
  "nbformat": 4,
  "nbformat_minor": 0,
  "metadata": {
    "colab": {
      "provenance": [],
      "authorship_tag": "ABX9TyMdWr7xK7Q02eV83cjyLUvt",
      "include_colab_link": true
    },
    "kernelspec": {
      "name": "python3",
      "display_name": "Python 3"
    },
    "language_info": {
      "name": "python"
    }
  },
  "cells": [
    {
      "cell_type": "markdown",
      "metadata": {
        "id": "view-in-github",
        "colab_type": "text"
      },
      "source": [
        "<a href=\"https://colab.research.google.com/github/lacerdamj/Sistemas-Lineares/blob/main/Representa%C3%A7%C3%A3o.ipynb\" target=\"_parent\"><img src=\"https://colab.research.google.com/assets/colab-badge.svg\" alt=\"Open In Colab\"/></a>"
      ]
    },
    {
      "cell_type": "markdown",
      "source": [
        "# **Sistemas Lineares**\n",
        "# Representação entrada saída e representação em espaço de estados\n",
        "\n",
        "*Escrito por Márcio J. Lacerda*"
      ],
      "metadata": {
        "id": "TM6eqEgYEz2Z"
      }
    },
    {
      "cell_type": "code",
      "execution_count": null,
      "metadata": {
        "id": "UjYWSu0tEu5z"
      },
      "outputs": [],
      "source": [
        "#Importando as bibliotecas\n",
        "import numpy as np\n",
        "import scipy\n",
        "!pip install control\n",
        "import control\n"
      ]
    },
    {
      "cell_type": "markdown",
      "source": [
        "Considere o seguinte sistema contínuo no tempo, representado em espaço de estados:\n",
        "\n",
        "$$\n",
        "\\dot{x}=\\begin{bmatrix} 0 & 1 & 0 \\\\ 0 & 0 & 1 \\\\ -4 &-3 &-2 \\end{bmatrix}x+\n",
        "\\begin{bmatrix} 0  \\\\ 0  \\\\ 1 \\end{bmatrix}u,\n",
        "$$\n",
        "com saída\n",
        "$$\n",
        "y= \\begin{bmatrix} -1 & 2 & 1 \\end{bmatrix}x.\n",
        "$$\n",
        "\n",
        "Encontre  a representação entrada-saída, ou seja, a função de transferência do sistema."
      ],
      "metadata": {
        "id": "wFjWoM54HnQ2"
      }
    },
    {
      "cell_type": "code",
      "source": [
        "#Primeiro passo, descrever as matrizes da representação em espaço de estados\n",
        "A = [[0,1,0], [0,0,1],[-4,-3,-2]]\n",
        "B = [[0], [0],[1]]\n",
        "C = [[-1, 2,1]]\n",
        "D = [[0]]\n",
        "\n",
        "#Usar a função control.ss2tf (state space to transfer function).\n",
        "sys1 = control.ss2tf(A, B, C, D)\n",
        "\n",
        "#Mostra a resposta obtida\n",
        "print(\"A função de transferência é\",sys1)"
      ],
      "metadata": {
        "colab": {
          "base_uri": "https://localhost:8080/"
        },
        "id": "2ooVBdShF7Ss",
        "outputId": "2ae8b698-d4a0-4116-9580-3d0dd895129c"
      },
      "execution_count": 40,
      "outputs": [
        {
          "output_type": "stream",
          "name": "stdout",
          "text": [
            "A função de transferência é \n",
            "    s^2 + 2 s - 1\n",
            "---------------------\n",
            "s^3 + 2 s^2 + 3 s + 4\n",
            "\n"
          ]
        }
      ]
    },
    {
      "cell_type": "markdown",
      "source": [
        "O mesmo procedimento pode ser realizado de outra forma, como apresentado no seguinte código:"
      ],
      "metadata": {
        "id": "zLFa7sQNMj-F"
      }
    },
    {
      "cell_type": "code",
      "source": [
        "#Primeiro passo, descrever o sistema em espaço de estados\n",
        "sys_ss = control.ss(A, B, C, D)\n",
        "print(\"Representação em espaço de estados:\",sys_ss)\n",
        "\n",
        "#Usar a função control.ss2tf (state space to transfer function).\n",
        "sys2 = control.ss2tf(sys_ss)\n",
        "print(\"A função de transferência é\", sys2)"
      ],
      "metadata": {
        "colab": {
          "base_uri": "https://localhost:8080/"
        },
        "id": "TsyfO7q4JYkF",
        "outputId": "366dcc80-a6b6-4d83-ab36-1b1d724809dd"
      },
      "execution_count": 41,
      "outputs": [
        {
          "output_type": "stream",
          "name": "stdout",
          "text": [
            "Representação em espaço de estados: <LinearIOSystem>: sys[49]\n",
            "Inputs (1): ['u[0]']\n",
            "Outputs (1): ['y[0]']\n",
            "States (3): ['x[0]', 'x[1]', 'x[2]']\n",
            "\n",
            "A = [[ 0.  1.  0.]\n",
            "     [ 0.  0.  1.]\n",
            "     [-4. -3. -2.]]\n",
            "\n",
            "B = [[0.]\n",
            "     [0.]\n",
            "     [1.]]\n",
            "\n",
            "C = [[-1.  2.  1.]]\n",
            "\n",
            "D = [[0.]]\n",
            "\n",
            "A função de transferência é \n",
            "    s^2 + 2 s - 1\n",
            "---------------------\n",
            "s^3 + 2 s^2 + 3 s + 4\n",
            "\n"
          ]
        }
      ]
    },
    {
      "cell_type": "markdown",
      "source": [
        "A partir da função de transferência obtida no passo anterior:\n",
        "\n",
        "$$\n",
        "G(s)=\\frac{s^2+2s-1}{s^3+2s^2+3s+4}.\n",
        "$$\n",
        "\n",
        "Obtenha uma nova realização em espaço de estados. "
      ],
      "metadata": {
        "id": "-HMU_u3sI_ZR"
      }
    },
    {
      "cell_type": "code",
      "source": [
        "#Defina o vetor com os coeficientes do numerador da função de transferência\n",
        "num=[1,2,-1]\n",
        "#Defina o vetor com os coeficientes do denominador da função de transferência\n",
        "den=[1,2,3,4]\n",
        "\n",
        "#Usar a função control.tf2ss (transfer function to state space).\n",
        "sys3 = control.tf2ss(num, den)\n",
        "print(\"Matrizes da representação em espaço de estados:\", sys3)"
      ],
      "metadata": {
        "colab": {
          "base_uri": "https://localhost:8080/"
        },
        "id": "Nj79PkCTJHCG",
        "outputId": "abf2bd6d-0f24-42b0-a22d-ae3042363165"
      },
      "execution_count": 42,
      "outputs": [
        {
          "output_type": "stream",
          "name": "stdout",
          "text": [
            "Matrizes da representação em espaço de estados: A = [[-2. -3. -4.]\n",
            "     [ 1.  0.  0.]\n",
            "     [ 0.  1.  0.]]\n",
            "\n",
            "B = [[1.]\n",
            "     [0.]\n",
            "     [0.]]\n",
            "\n",
            "C = [[ 1.  2. -1.]]\n",
            "\n",
            "D = [[0.]]\n",
            "\n"
          ]
        }
      ]
    },
    {
      "cell_type": "markdown",
      "source": [
        "Outra forma de solucionar o problema é apresentada a seguir:"
      ],
      "metadata": {
        "id": "Qh-KHSrFNp0c"
      }
    },
    {
      "cell_type": "code",
      "source": [
        "#Primeiro passo, descrever o sistema na forma entrada saída.\n",
        "sys_tf = control.tf(num, den)\n",
        "print(\"A função de transferência é\", sys_tf)\n",
        "\n",
        "#Usar a função control.tf2ss (transfer function to state space).\n",
        "sys4 = control.tf2ss(sys_tf)\n",
        "print(\"Matrizes da representação em espaço de estados:\",sys4)"
      ],
      "metadata": {
        "colab": {
          "base_uri": "https://localhost:8080/"
        },
        "id": "hXTk7ublJ1Z0",
        "outputId": "40bdb1a3-0f96-4ca6-8233-563b1bc96896"
      },
      "execution_count": 43,
      "outputs": [
        {
          "output_type": "stream",
          "name": "stdout",
          "text": [
            "A função de transferência é \n",
            "    s^2 + 2 s - 1\n",
            "---------------------\n",
            "s^3 + 2 s^2 + 3 s + 4\n",
            "\n",
            "Matrizes da representação em espaço de estados: A = [[-2. -3. -4.]\n",
            "     [ 1.  0.  0.]\n",
            "     [ 0.  1.  0.]]\n",
            "\n",
            "B = [[1.]\n",
            "     [0.]\n",
            "     [0.]]\n",
            "\n",
            "C = [[ 1.  2. -1.]]\n",
            "\n",
            "D = [[0.]]\n",
            "\n"
          ]
        }
      ]
    },
    {
      "cell_type": "markdown",
      "source": [
        "Note que a representação em espaço de estados obtida é diferente daquela apresentada no início do problema. \n",
        "\n",
        "\n",
        "$$\n",
        "\\dot{x}=\\begin{bmatrix} -2 & -3 & -4 \\\\ 1 & 0 & 0 \\\\ 0 &1 &0 \\end{bmatrix}x+\n",
        "\\begin{bmatrix} 1  \\\\ 0  \\\\ 0 \\end{bmatrix}u,\n",
        "$$\n",
        "com saída\n",
        "$$\n",
        "y= \\begin{bmatrix} 1 & 2 & -1 \\end{bmatrix}x.\n",
        "$$\n",
        "\n",
        "\n",
        "\n",
        "De fato, um mesmo sistema possui diferentes realizações. Entretanto, todas as realizações levam à mesma função de transferência. Para confirmar este fato, vamos obter a representação entrada saída a partir da representação em espaço de estados obtida anteriormente."
      ],
      "metadata": {
        "id": "_ecU5BRHOUpr"
      }
    },
    {
      "cell_type": "code",
      "source": [
        "#Aplicando o comando no sistema 4 (em espaço de estados) obtido anteriormente.\n",
        "sys5=control.ss2tf(sys4)\n",
        "\n",
        "#Apresentadndo a resposta\n",
        "print(\"A função de transferência é: \",sys5)"
      ],
      "metadata": {
        "colab": {
          "base_uri": "https://localhost:8080/"
        },
        "id": "Ab0JifXmOh-U",
        "outputId": "854368d0-fd6e-4865-960a-b59646305501"
      },
      "execution_count": 44,
      "outputs": [
        {
          "output_type": "stream",
          "name": "stdout",
          "text": [
            "A função de transferência é:  \n",
            "    s^2 + 2 s - 1\n",
            "---------------------\n",
            "s^3 + 2 s^2 + 3 s + 4\n",
            "\n"
          ]
        }
      ]
    },
    {
      "cell_type": "markdown",
      "source": [
        "Observe que a função de transferência para um mesmo sistema não se altera.  "
      ],
      "metadata": {
        "id": "MHnwWhPyQS_H"
      }
    }
  ]
}