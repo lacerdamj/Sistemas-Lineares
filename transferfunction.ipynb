{
  "nbformat": 4,
  "nbformat_minor": 0,
  "metadata": {
    "colab": {
      "provenance": [],
      "authorship_tag": "ABX9TyPc5RW4KOalNk1/mooFRfpS",
      "include_colab_link": true
    },
    "kernelspec": {
      "name": "python3",
      "display_name": "Python 3"
    },
    "language_info": {
      "name": "python"
    }
  },
  "cells": [
    {
      "cell_type": "markdown",
      "metadata": {
        "id": "view-in-github",
        "colab_type": "text"
      },
      "source": [
        "<a href=\"https://colab.research.google.com/github/lacerdamj/Sistemas-Lineares/blob/main/transferfunction.ipynb\" target=\"_parent\"><img src=\"https://colab.research.google.com/assets/colab-badge.svg\" alt=\"Open In Colab\"/></a>"
      ]
    },
    {
      "cell_type": "markdown",
      "source": [
        "# **Sistemas Lineares**\n",
        "# Função de transferência e resposta ao degrau\n",
        "\n",
        "*Escrito por Márcio J. Lacerda*"
      ],
      "metadata": {
        "id": "EzPokP1YahL9"
      }
    },
    {
      "cell_type": "code",
      "execution_count": 1,
      "metadata": {
        "id": "YE-7F9eUafnt"
      },
      "outputs": [],
      "source": [
        "#Importando as bibliotecas\n",
        "import matplotlib.pyplot as plt\n",
        "from scipy import signal\n"
      ]
    },
    {
      "cell_type": "markdown",
      "source": [
        "Calcule a resposta ao degrau para o sistema\n",
        "\n",
        "$$\n",
        "G(s)=\\frac{4s+8}{6s^2+9s+2}.\n",
        "$$\n",
        "O primeiro passo é criar a função de transferência, e na sequência usar o comando step para calcular a resposta ao degrau. A rotina a seguir detalha o procedimento:"
      ],
      "metadata": {
        "id": "ZBfQjQLnau8Y"
      }
    },
    {
      "cell_type": "code",
      "source": [
        "#numerador da função de transferência\n",
        "num= [4, 8]\n",
        "#denominador da função de transferência\n",
        "den= [6, 9, 2]\n",
        "\n",
        "#Define a função \n",
        "sys=signal.lti(num,den)\n",
        "\n",
        "#Calcula a resposta ao degrau, guardando o tempo (time) e o valor da saída (y_amp).\n",
        "time, y_amp=signal.step(sys)\n",
        "\n",
        "\n",
        "\n",
        "# inicia a figura para plotar o resultado\n",
        "fg, ax = plt.subplots(1, 1)\n",
        "#plota no eixo horizontal a variável t e no vertical a variável y\n",
        "ax.plot(time,y_amp,'r', linewidth=2)\n",
        "\n",
        "#insere uma grade no gráfico\n",
        "ax.grid(True)\n",
        "#insere informação do eixo vertical\n",
        "plt.ylabel('$y(t)$', fontsize=12)\n",
        "#insere informação do eixo horizontal\n",
        "plt.xlabel('t', fontsize=12)\n",
        "fg.canvas.draw()"
      ],
      "metadata": {
        "colab": {
          "base_uri": "https://localhost:8080/",
          "height": 453
        },
        "id": "E2glyBLXa1UP",
        "outputId": "f1251560-8787-4034-c8c0-74835af8c6c3"
      },
      "execution_count": 2,
      "outputs": [
        {
          "output_type": "display_data",
          "data": {
            "text/plain": [
              "<Figure size 640x480 with 1 Axes>"
            ],
            "image/png": "[encoded data removed]"
          },
          "metadata": {}
        }
      ]
    },
    {
      "cell_type": "markdown",
      "source": [
        "##Interconexão série\n",
        "Considere os sistemas\n",
        "$$\n",
        "G_1(s)= \\frac{3}{s+4}, \\quad\n",
        "G_2(s)= \\frac{5}{9s-6}\n",
        "$$\n",
        "A interconexão série $H(s)=G_1(s)G_2(s)$ é dada por:\n",
        "$$\n",
        "H(s)=\\frac{3}{s+4}\\frac{5}{9s-6}=\\frac{15}{9s^2+30s-24}\n",
        "$$\n"
      ],
      "metadata": {
        "id": "Ui0Yx1cxhLu9"
      }
    },
    {
      "cell_type": "code",
      "source": [
        "#O comando -q de quiet faz com que os comentários do pip install não apareçam\n",
        "!pip install -q control\n",
        "\n",
        "import control\n",
        "\n",
        "#numerador da função de transferência\n",
        "num1= [3]\n",
        "#denominador da função de transferência\n",
        "den1= [1,4]\n",
        "\n",
        "#Define a função G1\n",
        "G1=control.TransferFunction(num1,den1)\n",
        "\n",
        "#numerador da função de transferência\n",
        "num2= [5]\n",
        "#denominador da função de transferência\n",
        "den2= [9,-6]\n",
        "\n",
        "#Define a função G2\n",
        "G2=control.TransferFunction(num2,den2)\n",
        "\n",
        "\n",
        "#Define a interconexão série\n",
        "Hs = control.series(G1, G2)\n",
        "\n",
        "print(Hs)"
      ],
      "metadata": {
        "id": "2DTc2y9XhY6w",
        "colab": {
          "base_uri": "https://localhost:8080/"
        },
        "outputId": "bb1a500b-839e-42b7-d97b-8d333a937dda"
      },
      "execution_count": 6,
      "outputs": [
        {
          "output_type": "stream",
          "name": "stdout",
          "text": [
            "\n",
            "       15\n",
            "-----------------\n",
            "9 s^2 + 30 s - 24\n",
            "\n"
          ]
        }
      ]
    },
    {
      "cell_type": "markdown",
      "source": [
        "##Interconexão paralela\n",
        "Considere os sistemas\n",
        "$$\n",
        "G_1(s)= \\frac{3}{s+4}, \\quad\n",
        "G_2(s)= \\frac{5}{9s-6}\n",
        "$$\n",
        "A interconexão paralela $H(s)=G_1(s)+G_2(s)$ é dada por:\n",
        "$$\n",
        "H(s)=\\frac{3}{s+4}+\\frac{5}{9s-6}=\\frac{3(9s-6)+5(s+4)}{9s^2+30s-24}=\\frac{32s+2}{9s^2+30s-24}\n",
        "$$\n",
        "Como os sistemas $G_1$ e $G_2$ foram definidos previamente, podemos simplesmente aplicar o comando que calcula a interconexão paralela."
      ],
      "metadata": {
        "id": "OvLH3esqKK1Q"
      }
    },
    {
      "cell_type": "code",
      "source": [
        "#Define a interconexão paralela\n",
        "Hp = control.parallel(G1, G2)\n",
        "\n",
        "print(Hp)"
      ],
      "metadata": {
        "colab": {
          "base_uri": "https://localhost:8080/"
        },
        "id": "yE77Y1NyKlkz",
        "outputId": "ceb0ba46-a7be-4877-9a04-09068d430ef3"
      },
      "execution_count": 5,
      "outputs": [
        {
          "output_type": "stream",
          "name": "stdout",
          "text": [
            "\n",
            "    32 s + 2\n",
            "-----------------\n",
            "9 s^2 + 30 s - 24\n",
            "\n"
          ]
        }
      ]
    }
  ]
}