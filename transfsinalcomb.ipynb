{
  "nbformat": 4,
  "nbformat_minor": 0,
  "metadata": {
    "colab": {
      "provenance": [],
      "authorship_tag": "ABX9TyPocz/FC/kW4GRKMUe/relr",
      "include_colab_link": true
    },
    "kernelspec": {
      "name": "python3",
      "display_name": "Python 3"
    },
    "language_info": {
      "name": "python"
    }
  },
  "cells": [
    {
      "cell_type": "markdown",
      "metadata": {
        "id": "view-in-github",
        "colab_type": "text"
      },
      "source": [
        "<a href=\"https://colab.research.google.com/github/lacerdamj/Sistemas-Lineares/blob/main/transfsinalcomb.ipynb\" target=\"_parent\"><img src=\"https://colab.research.google.com/assets/colab-badge.svg\" alt=\"Open In Colab\"/></a>"
      ]
    },
    {
      "cell_type": "markdown",
      "source": [
        "# **Sistemas Lineares**\n",
        "# Transformação de sinais\n",
        "\n",
        "*Escrito por Márcio J. Lacerda*\n"
      ],
      "metadata": {
        "id": "1EjTut_ozzlH"
      }
    },
    {
      "cell_type": "code",
      "source": [
        "#Importando as bibliotecas\n",
        "import numpy as np\n",
        "import matplotlib.pyplot as plt"
      ],
      "metadata": {
        "id": "t-mEe7qGz1Ya"
      },
      "execution_count": 1,
      "outputs": []
    },
    {
      "cell_type": "markdown",
      "source": [
        "### Transformação combinada\n",
        "\n",
        "Considere o sinal\n",
        "$$\n",
        "f(t)= \\left\\{ \\begin{aligned} \n",
        "t^2-1 & \\quad 1 \\leq t \\leq 3 \\\\\n",
        "0 & \\quad \\mbox{caso contrário.} \n",
        "\\end{aligned} \\right. \n",
        "$$ \n",
        "\n",
        "Obtenha o sinal $f(2t+1)$. Neste caso você deve deslocar o sinal original para a esquerda e realizar a compressão do sinal resultante por um fator $2$. \n",
        "\n",
        "\n",
        "\n",
        "$$\n",
        "f(2t+1)= \\left\\{ \\begin{aligned} \n",
        "(2t+1)^2-1 & \\quad 1 \\leq 2t+1 \\leq 3 \\\\\n",
        "0 & \\quad \\mbox{caso contrário.} \n",
        "\\end{aligned} \\right. =\n",
        "\\left\\{ \\begin{aligned} \n",
        "(2t+1)^2-1 & \\quad 0 \\leq 2t \\leq 2 \\\\\n",
        "0 & \\quad \\mbox{caso contrário.} \n",
        "\\end{aligned} \\right. =\n",
        "\\left\\{ \\begin{aligned} \n",
        "(2t+1)^2-1 & \\quad 0 \\leq t \\leq 1 \\\\\n",
        "0 & \\quad \\mbox{caso contrário.} \n",
        "\\end{aligned} \\right.\n",
        "$$ \n",
        "\n",
        "A Figura a seguir apresenta o sinal original $f(t)$, e o sinal desejado $f(2t+1)$."
      ],
      "metadata": {
        "id": "JgHtkFBC0BB1"
      }
    },
    {
      "cell_type": "code",
      "execution_count": 2,
      "metadata": {
        "colab": {
          "base_uri": "https://localhost:8080/",
          "height": 282
        },
        "id": "pRRYqfV1zjaB",
        "outputId": "99fdc4d9-49a9-42cb-867e-47629b8c1b55"
      },
      "outputs": [
        {
          "output_type": "display_data",
          "data": {
            "text/plain": [
              "<Figure size 432x288 with 1 Axes>"
            ],
            "image/png": "[encoded data removed]"
          },
          "metadata": {
            "needs_background": "light"
          }
        }
      ],
      "source": [
        "n = 10000   #número de pontos\n",
        "t0 = 0        #tempo inicial\n",
        "tf = 6      #tempo final\n",
        "#a função linspace define um intervalo de t0 até tf \n",
        "#igualmente espaçado com n pontos\n",
        "t = np.linspace(t0, tf, n)\n",
        "\n",
        "# define a função f(t)\n",
        "f = np.where(np.logical_and(t>=1, t<=3), t**2-1, 0) \n",
        "\n",
        "# define a função f(2t+1)\n",
        "r = np.where(np.logical_and(2*t+1>=1, 2*t+1<=3), (2*t+1)**2-1, 0) \n",
        "\n",
        "# plot results:    \n",
        "fg, ax = plt.subplots(1, 1)\n",
        "\n",
        "ax.plot(t,r,'green', label=\"$f(2t+1)$\", linewidth=2)\n",
        "ax.plot(t,f,'blue', label=\"$f(t)$\", linewidth=2)\n",
        "\n",
        "ax.grid(True)\n",
        "ax.legend(loc='best')\n",
        "plt.xlabel('t', fontsize=12)\n",
        "fg.canvas.draw()"
      ]
    },
    {
      "cell_type": "markdown",
      "source": [
        "### Regra geral\n",
        "\n",
        "Para uma função do tipo $f(at+b)$, primeiro realiza-se o deslocamento de acordo com o valor de $b$, e na sequência aplica-se a compressão ou expansão de acordo com o valor de $a$.\n",
        "\n",
        "No caso de um valor negativo para $a$, a expansão ou compressão serão acompanhadas da reversão. Por exemplo, o sinal $f(-2t+1)$ é obtido da seguinte forma.\n",
        "\n",
        "$$\n",
        "f(-2t+1)= \\left\\{ \\begin{aligned} \n",
        "(-2t+1)^2-1 & \\quad 1 \\leq -2t+1 \\leq 3 \\\\\n",
        "0 & \\quad \\mbox{caso contrário.} \n",
        "\\end{aligned} \\right. =\n",
        "\\left\\{ \\begin{aligned} \n",
        "(-2t+1)^2-1 & \\quad 0 \\leq -2t \\leq 2 \\\\\n",
        "0 & \\quad \\mbox{caso contrário.} \n",
        "\\end{aligned} \\right. =\n",
        "\\left\\{ \\begin{aligned} \n",
        "(-2t+1)^2-1 & \\quad 0 \\leq -t \\leq 1 \\\\\n",
        "0 & \\quad \\mbox{caso contrário.} \n",
        "\\end{aligned} \\right. =\n",
        "\\left\\{ \\begin{aligned} \n",
        "(-2t+1)^2-1 & \\quad -1 \\leq t \\leq 0 \\\\\n",
        "0 & \\quad \\mbox{caso contrário.} \n",
        "\\end{aligned} \\right.\n",
        "$$ \n"
      ],
      "metadata": {
        "id": "uNFLJiFR1Wze"
      }
    },
    {
      "cell_type": "code",
      "source": [
        "n = 10000   #número de pontos\n",
        "t0 = -2        #tempo inicial\n",
        "tf = 2      #tempo final\n",
        "#a função linspace define um intervalo de t0 até tf \n",
        "#igualmente espaçado com n pontos\n",
        "t = np.linspace(t0, tf, n)\n",
        "\n",
        "\n",
        "# define a função f(-2t+1)\n",
        "r = np.where(np.logical_and(2*t+1>=1, 2*t+1<=3), (2*t+1)**2-1, 0) \n",
        "\n",
        "h = np.where(np.logical_and(-2*t+1>=1, -2*t+1<=3), (-2*t+1)**2-1, 0) \n",
        "\n",
        "# plot results:    \n",
        "fg, ax = plt.subplots(1, 1)\n",
        "\n",
        "ax.plot(t,r,'green', label=\"$f(2t+1)$\", linewidth=2)\n",
        "ax.plot(t,h,'red', label=\"$f(-2t+1)$\", linewidth=2)\n",
        "\n",
        "ax.grid(True)\n",
        "ax.legend(loc='best')\n",
        "plt.xlabel('t', fontsize=12)\n",
        "fg.canvas.draw()"
      ],
      "metadata": {
        "colab": {
          "base_uri": "https://localhost:8080/",
          "height": 282
        },
        "id": "tkwH72mH2piO",
        "outputId": "70ee0927-e342-40be-c54e-11405b94c85c"
      },
      "execution_count": 3,
      "outputs": [
        {
          "output_type": "display_data",
          "data": {
            "text/plain": [
              "<Figure size 432x288 with 1 Axes>"
            ],
            "image/png": "[encoded data removed]"
          },
          "metadata": {
            "needs_background": "light"
          }
        }
      ]
    }
  ]
}